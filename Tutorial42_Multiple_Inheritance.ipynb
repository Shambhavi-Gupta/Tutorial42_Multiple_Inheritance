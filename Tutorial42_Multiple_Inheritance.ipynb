{
  "nbformat": 4,
  "nbformat_minor": 0,
  "metadata": {
    "colab": {
      "name": "Tutorial42_Multiple_Inheritance.ipynb",
      "provenance": [],
      "authorship_tag": "ABX9TyM8rkzpZWU9daI37K6y9oYx",
      "include_colab_link": true
    },
    "kernelspec": {
      "name": "python3",
      "display_name": "Python 3"
    }
  },
  "cells": [
    {
      "cell_type": "markdown",
      "metadata": {
        "id": "view-in-github",
        "colab_type": "text"
      },
      "source": [
        "<a href=\"https://colab.research.google.com/github/Shambhavi-Gupta/Tutorial42_Multiple_Inheritance/blob/main/Tutorial42_Multiple_Inheritance.ipynb\" target=\"_parent\"><img src=\"https://colab.research.google.com/assets/colab-badge.svg\" alt=\"Open In Colab\"/></a>"
      ]
    },
    {
      "cell_type": "code",
      "metadata": {
        "id": "4sNA8_JAFD8E"
      },
      "source": [
        "class plant:\r\n",
        "    def one(self):\r\n",
        "        print(\"I am a small plant\")\r\n",
        "\r\n",
        "class flower:\r\n",
        "    def one(self):\r\n",
        "        print(\"I am  a sunflower\")\r\n",
        "\r\n",
        "class Purchaser(plant,flower):\r\n",
        "    def one(self):\r\n",
        "        plant.one(self)\r\n",
        "        flower.one(self)\r\n",
        "        print(\"I want plant and flower both\")\r\n",
        "\r\n",
        "p = Purchaser()\r\n",
        "p.one()\r\n",
        "# p.type()\r\n",
        "# p.kind()\r\n",
        "# p.buy()\r\n"
      ],
      "execution_count": null,
      "outputs": []
    }
  ]
}